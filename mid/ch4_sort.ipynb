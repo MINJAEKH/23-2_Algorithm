{
  "nbformat": 4,
  "nbformat_minor": 0,
  "metadata": {
    "colab": {
      "provenance": []
    },
    "kernelspec": {
      "name": "python3",
      "display_name": "Python 3"
    },
    "language_info": {
      "name": "python"
    }
  },
  "cells": [
    {
      "cell_type": "markdown",
      "source": [
        "# **Ch.4 정렬**"
      ],
      "metadata": {
        "id": "QKAWMEQ63mDV"
      }
    },
    {
      "cell_type": "markdown",
      "source": [
        "- 모든 정렬 알고리즘은 maxHeap 정렬 외 오름차순으로 정렬함"
      ],
      "metadata": {
        "id": "v2A8IpLz38yR"
      }
    },
    {
      "cell_type": "code",
      "execution_count": null,
      "metadata": {
        "colab": {
          "base_uri": "https://localhost:8080/"
        },
        "id": "TOkrqgI50TJZ",
        "outputId": "9ea12bf0-0ce7-4154-c731-1bad26e8c8b4"
      },
      "outputs": [
        {
          "output_type": "stream",
          "name": "stdout",
          "text": [
            "10\n",
            "100\n",
            "1000\n",
            "10000\n"
          ]
        }
      ],
      "source": [
        "# 난수 리스트 파일 생성\n",
        "import random\n",
        "import time\n",
        "\n",
        "def gen_rand_list(n):\n",
        "  li = []\n",
        "  for i in range(n):\n",
        "    rd = random.randint(1, 1000) # 1~1000 중에서 난수 생성\n",
        "    li.append(rd)\n",
        "  print(len(li))\n",
        "  # print(li)\n",
        "  return li\n",
        "\n",
        "n10 = gen_rand_list(10)\n",
        "n100 = gen_rand_list(100)\n",
        "n1000 = gen_rand_list(1000)\n",
        "n10000 = gen_rand_list(10000)"
      ]
    },
    {
      "cell_type": "markdown",
      "source": [
        "### **선택정렬**"
      ],
      "metadata": {
        "id": "4ativJci3tTb"
      }
    },
    {
      "cell_type": "code",
      "source": [
        "# 최대 원소 찾기\n",
        "def selectionSort(A) :\n",
        "  n = len(A)\n",
        "  for i in range(n-1,0,-1) :\n",
        "    last = i\n",
        "    k = theLargest(A,last) #위치를 바꿀 원소 k\n",
        "    A[k], A[last] = A[last], A[k]\n",
        "    print(last,\":\",A)\n",
        "  return A\n",
        "\n",
        "def theLargest(A, last) :\n",
        "  largest = 0\n",
        "  for i in range(1, last+1) :\n",
        "    if A[i] >= A[largest] :\n",
        "      largest = i\n",
        "  return largest\n",
        "\n",
        "B = [8,31,48,73,3,65,20,29,11,15]\n",
        "selectionSort(B)"
      ],
      "metadata": {
        "colab": {
          "base_uri": "https://localhost:8080/"
        },
        "id": "g5b4ohJT3lMm",
        "outputId": "cab8aecf-3aa8-4d25-fc70-97fe6fb4a7e8"
      },
      "execution_count": null,
      "outputs": [
        {
          "output_type": "stream",
          "name": "stdout",
          "text": [
            "9 : [8, 31, 48, 15, 3, 65, 20, 29, 11, 73]\n",
            "8 : [8, 31, 48, 15, 3, 11, 20, 29, 65, 73]\n",
            "7 : [8, 31, 29, 15, 3, 11, 20, 48, 65, 73]\n",
            "6 : [8, 20, 29, 15, 3, 11, 31, 48, 65, 73]\n",
            "5 : [8, 20, 11, 15, 3, 29, 31, 48, 65, 73]\n",
            "4 : [8, 3, 11, 15, 20, 29, 31, 48, 65, 73]\n",
            "3 : [8, 3, 11, 15, 20, 29, 31, 48, 65, 73]\n",
            "2 : [8, 3, 11, 15, 20, 29, 31, 48, 65, 73]\n",
            "1 : [3, 8, 11, 15, 20, 29, 31, 48, 65, 73]\n"
          ]
        },
        {
          "output_type": "execute_result",
          "data": {
            "text/plain": [
              "[3, 8, 11, 15, 20, 29, 31, 48, 65, 73]"
            ]
          },
          "metadata": {},
          "execution_count": 7
        }
      ]
    },
    {
      "cell_type": "code",
      "source": [
        "# 최소 원소 찾기\n",
        "def selectionSort_min(A) :\n",
        "  n = len(A)\n",
        "  for i in range(n-1) :\n",
        "    first = i\n",
        "    k = theSmallest(A,first,n)\n",
        "    A[k], A[first] = A[first], A[k]\n",
        "    print(first,\":\",A)\n",
        "  return A\n",
        "\n",
        "# 앞에서부터 정렬될테니까 맨 뒤 인덱스부터 정렬이 아직 안된 인덱스까지 역순으로 최소 원소 찾기\n",
        "def theSmallest(A,first,n) :\n",
        "  smallest = n-1\n",
        "  for i in range(n-2,first-1,-1) : #A[smallest]를 A[first]까지 계속 비교\n",
        "    if A[smallest] >= A[i] :\n",
        "      smallest = i\n",
        "  return smallest\n",
        "\n",
        "B = [8, 31, 48, 73, 3, 65, 20, 29, 11, 15]\n",
        "selectionSort_min(B)"
      ],
      "metadata": {
        "colab": {
          "base_uri": "https://localhost:8080/"
        },
        "id": "lWgsIR-p6TFf",
        "outputId": "c74a0b8c-2bb7-4187-cc66-d3aaa1d2a41c"
      },
      "execution_count": null,
      "outputs": [
        {
          "output_type": "stream",
          "name": "stdout",
          "text": [
            "0 : [3, 31, 48, 73, 8, 65, 20, 29, 11, 15]\n",
            "1 : [3, 8, 48, 73, 31, 65, 20, 29, 11, 15]\n",
            "2 : [3, 8, 11, 73, 31, 65, 20, 29, 48, 15]\n",
            "3 : [3, 8, 11, 15, 31, 65, 20, 29, 48, 73]\n",
            "4 : [3, 8, 11, 15, 20, 65, 31, 29, 48, 73]\n",
            "5 : [3, 8, 11, 15, 20, 29, 31, 65, 48, 73]\n",
            "6 : [3, 8, 11, 15, 20, 29, 31, 65, 48, 73]\n",
            "7 : [3, 8, 11, 15, 20, 29, 31, 48, 65, 73]\n",
            "8 : [3, 8, 11, 15, 20, 29, 31, 48, 65, 73]\n"
          ]
        },
        {
          "output_type": "execute_result",
          "data": {
            "text/plain": [
              "[3, 8, 11, 15, 20, 29, 31, 48, 65, 73]"
            ]
          },
          "metadata": {},
          "execution_count": 5
        }
      ]
    },
    {
      "cell_type": "markdown",
      "source": [
        "### **버블정렬**"
      ],
      "metadata": {
        "id": "xWSeeXaQ8gZa"
      }
    },
    {
      "cell_type": "code",
      "source": [
        "#  최댓값을 맨 뒤에 배치\n",
        "def bubbleSort(A):\n",
        "  n = len(A)\n",
        "  for last in range(n-1,0,-1) :\n",
        "    sorted == True\n",
        "    for i in range(last) :\n",
        "      if A[i] > A[i+1] :\n",
        "        sorted == False\n",
        "        A[i], A[i+1] = A[i+1], A[i]\n",
        "        print(i, \":\", A)\n",
        "    print(\"last:\", last, A)\n",
        "\n",
        "    if (sorted == True) :\n",
        "      print('return')\n",
        "      return\n",
        "\n",
        "  return A\n",
        "\n",
        "B = [29,10,14,37,13]\n",
        "bubbleSort(B)"
      ],
      "metadata": {
        "colab": {
          "base_uri": "https://localhost:8080/"
        },
        "id": "LtqKoQyV8jez",
        "outputId": "d74a0b4a-1a37-4ad8-c5e2-81bc7c27862e"
      },
      "execution_count": null,
      "outputs": [
        {
          "output_type": "stream",
          "name": "stdout",
          "text": [
            "0 : [10, 29, 14, 37, 13]\n",
            "1 : [10, 14, 29, 37, 13]\n",
            "3 : [10, 14, 29, 13, 37]\n",
            "4 : [10, 14, 29, 13, 37]\n",
            "2 : [10, 14, 13, 29, 37]\n",
            "3 : [10, 14, 13, 29, 37]\n",
            "1 : [10, 13, 14, 29, 37]\n",
            "2 : [10, 13, 14, 29, 37]\n",
            "1 : [10, 13, 14, 29, 37]\n"
          ]
        },
        {
          "output_type": "execute_result",
          "data": {
            "text/plain": [
              "[10, 13, 14, 29, 37]"
            ]
          },
          "metadata": {},
          "execution_count": 9
        }
      ]
    },
    {
      "cell_type": "code",
      "source": [
        "# 최솟값을 맨 앞에 배치\n",
        "def bubbleSort_min(A):\n",
        "  n = len(A)\n",
        "  for first in range(n-1) :\n",
        "    for i in range(n-1,first,-1) :\n",
        "      if A[i] < A[i-1] :\n",
        "        A[i], A[i-1] = A[i-1], A[i]\n",
        "        print(i, \":\", A)\n",
        "    print(\"first:\", first, A)\n",
        "\n",
        "  return A\n",
        "\n",
        "B = [29,10,14,37,13]\n",
        "bubbleSort_min(B)"
      ],
      "metadata": {
        "colab": {
          "base_uri": "https://localhost:8080/"
        },
        "id": "HXrDYDlZ9cxZ",
        "outputId": "f1cec059-2556-448e-8d04-9f6bc6ba1c5b"
      },
      "execution_count": null,
      "outputs": [
        {
          "output_type": "stream",
          "name": "stdout",
          "text": [
            "4 : [29, 10, 14, 13, 37]\n",
            "3 : [29, 10, 13, 14, 37]\n",
            "1 : [10, 29, 13, 14, 37]\n",
            "first: 0 [10, 29, 13, 14, 37]\n",
            "2 : [10, 13, 29, 14, 37]\n",
            "first: 1 [10, 13, 29, 14, 37]\n",
            "3 : [10, 13, 14, 29, 37]\n",
            "first: 2 [10, 13, 14, 29, 37]\n",
            "first: 3 [10, 13, 14, 29, 37]\n"
          ]
        },
        {
          "output_type": "execute_result",
          "data": {
            "text/plain": [
              "[10, 13, 14, 29, 37]"
            ]
          },
          "metadata": {},
          "execution_count": 14
        }
      ]
    },
    {
      "cell_type": "markdown",
      "source": [
        "### **삽입정렬**"
      ],
      "metadata": {
        "id": "0SYdJU_5AKol"
      }
    },
    {
      "cell_type": "code",
      "source": [
        "# 0번째 인덱스부터 비교\n",
        "def insertionSort(A):\n",
        "  n = len(A)\n",
        "  for i in range(1,n) :    # 0번째 인덱스의 원소는 정렬되어 있다고 가정 → 1번째 인덱스의 원소부터 삽입\n",
        "    newitem = A[i]         # 비교 대상\n",
        "    loc = i-1              # 이 지점에서 A[1 , ... , i-1]은 이미 정렬되어 있는 상태\n",
        "    while (loc >= 0 and newitem < A[loc]) :  # 위치를 바꿔야할 때까지 계쏙 대소비교 (최악의 경우, 0~(i-1)까지)\n",
        "      A[loc+1] = A[loc]   # newitem보다 큰 값이니까 한칸뒤로 물러나기\n",
        "      loc -= 1\n",
        "\n",
        "    A[loc+1] = newitem\n",
        "    print(i, \":\", A)\n",
        "    # while문을 빠져나올 때 newitem보다 작은 값이 나타났다는 뜻\n",
        "    # newitem보다 작은 값은 i번째 인덱스(loc)에 위치해 있다면, newitem은 i+1에 위치해야 함(loc+1)\n",
        "\n",
        "  return A\n",
        "\n",
        "B = [29,10,14,37,13]\n",
        "insertionSort(B)"
      ],
      "metadata": {
        "colab": {
          "base_uri": "https://localhost:8080/"
        },
        "id": "tEzdlrUqAuws",
        "outputId": "7a0ad33e-56f7-4c29-d2fe-811926538b4b"
      },
      "execution_count": null,
      "outputs": [
        {
          "output_type": "stream",
          "name": "stdout",
          "text": [
            "1 : [10, 29, 14, 37, 13]\n",
            "2 : [10, 14, 29, 37, 13]\n",
            "3 : [10, 14, 29, 37, 13]\n",
            "4 : [10, 13, 14, 29, 37]\n"
          ]
        },
        {
          "output_type": "execute_result",
          "data": {
            "text/plain": [
              "[10, 13, 14, 29, 37]"
            ]
          },
          "metadata": {},
          "execution_count": 16
        }
      ]
    },
    {
      "cell_type": "code",
      "source": [
        "# (i-1)번째 인덱스부터 역순으로 비교\n",
        "def insertionSort_rev(A):\n",
        "  n = len(A)\n",
        "  for i in range(n-2,-1,-1) :\n",
        "    newitem = A[i]\n",
        "    loc = i + 1\n",
        "    while (loc <= n-1 and newitem > A[loc]) :\n",
        "      A[loc-1] = A[loc]\n",
        "      loc += 1     # # newitem보다 큰 값이니까 한 칸 앞으로 이동\n",
        "\n",
        "    A[loc-1] = newitem\n",
        "    print(i, \":\", A)\n",
        "\n",
        "  return A\n",
        "\n",
        "B = [29,10,14,37,13]\n",
        "insertionSort_rev(B)"
      ],
      "metadata": {
        "colab": {
          "base_uri": "https://localhost:8080/"
        },
        "id": "WrXo3Nr2A0Jy",
        "outputId": "b8fb39f7-f91a-427d-ebb8-45b29872046e"
      },
      "execution_count": null,
      "outputs": [
        {
          "output_type": "stream",
          "name": "stdout",
          "text": [
            "3 : [29, 10, 14, 13, 37]\n",
            "2 : [29, 10, 13, 14, 37]\n",
            "1 : [29, 10, 13, 14, 37]\n",
            "0 : [10, 13, 14, 29, 37]\n"
          ]
        },
        {
          "output_type": "execute_result",
          "data": {
            "text/plain": [
              "[10, 13, 14, 29, 37]"
            ]
          },
          "metadata": {},
          "execution_count": 20
        }
      ]
    },
    {
      "cell_type": "markdown",
      "source": [
        "### **병합정렬**"
      ],
      "metadata": {
        "id": "OzpkNXPMF3Md"
      }
    },
    {
      "cell_type": "code",
      "source": [
        "def mergeSortA(A):\n",
        "  return mergeSort(A, 0, len(A)-1)\n",
        "\n",
        "def mergeSort(A, p, r): # A:배열, p:시작index, r:종료index\n",
        "  if p < r :                # 더이상 쪼개지지 않을 때까\n",
        "      q = int ((p+r)/2)     # p,r의 중간지점 계산 - 내림\n",
        "      mergeSort(A,p,q)      # 전반부 정렬\n",
        "      mergeSort(A,q+1,r)    # 후반부 정렬\n",
        "      merge(A,p,q,r)        # 병합\n",
        "  return A                  # 최종결과 반환용\n",
        "\n",
        "def merge(A, p, q, r):      # q: 앞쪽 배열의 마지막 index\n",
        "  tmp = [0]*len(A)          # 임시배열 생성\n",
        "  i = p; j = q+1; t = 0     # t는 인덱스\n",
        "  while (i <= q and j <= r) :\n",
        "    if A[i] <= A[j] :       # 전반부와 후반부 순차적으로 비교해서 더 작은 값 먼저 넣기\n",
        "      tmp[t] = A[i]\n",
        "      t += 1; i += 1        # A[j]는 아직 tmp에 안들어갔으니까 그대로 놔두기\n",
        "    else :\n",
        "      tmp[t] = A[j]\n",
        "      t += 1; j += 1\n",
        "\n",
        "  # 아래 2개는 tmp에 넣지 못한 원소들이 있으면 돌아간다\n",
        "  # 전반부와 후반부는 이미 독립적으로 정렬이 되었으므로, 남는거 순차적으로 넣어주면 됨\n",
        "  while i <= q :\n",
        "    tmp[t] = A[i]\n",
        "    t += 1; i += 1\n",
        "\n",
        "  while j <= r :\n",
        "    tmp[t] = A[j]\n",
        "    t += 1; j += 1\n",
        "\n",
        "  i = p; t = 0\n",
        "  while i <= r :\n",
        "    A[i] = tmp[t]\n",
        "    i += 1; t += 1\n",
        "  print(\"merge:\", tmp)\n",
        "\n",
        "A = [3,7,2,5]\n",
        "mergeSortA(A)"
      ],
      "metadata": {
        "colab": {
          "base_uri": "https://localhost:8080/"
        },
        "id": "QICZy1B8F7b4",
        "outputId": "c4773391-0840-4721-bf25-0b5861b670b9"
      },
      "execution_count": null,
      "outputs": [
        {
          "output_type": "stream",
          "name": "stdout",
          "text": [
            "merge: [3, 7, 0, 0]\n",
            "merge: [2, 5, 0, 0]\n",
            "merge: [2, 3, 5, 7]\n"
          ]
        },
        {
          "output_type": "execute_result",
          "data": {
            "text/plain": [
              "[2, 3, 5, 7]"
            ]
          },
          "metadata": {},
          "execution_count": 22
        }
      ]
    },
    {
      "cell_type": "code",
      "source": [
        "B = [31,3,65,73,8,11,20,29,48,15]\n",
        "mergeSortA(B)"
      ],
      "metadata": {
        "colab": {
          "base_uri": "https://localhost:8080/"
        },
        "id": "5BqDH-IgGQ1X",
        "outputId": "be2811aa-aad7-4b59-8199-7a0c34d3481c"
      },
      "execution_count": null,
      "outputs": [
        {
          "output_type": "stream",
          "name": "stdout",
          "text": [
            "merge: [3, 31, 0, 0, 0, 0, 0, 0, 0, 0]\n",
            "merge: [3, 31, 65, 0, 0, 0, 0, 0, 0, 0]\n",
            "merge: [8, 73, 0, 0, 0, 0, 0, 0, 0, 0]\n",
            "merge: [3, 8, 31, 65, 73, 0, 0, 0, 0, 0]\n",
            "merge: [11, 20, 0, 0, 0, 0, 0, 0, 0, 0]\n",
            "merge: [11, 20, 29, 0, 0, 0, 0, 0, 0, 0]\n",
            "merge: [15, 48, 0, 0, 0, 0, 0, 0, 0, 0]\n",
            "merge: [11, 15, 20, 29, 48, 0, 0, 0, 0, 0]\n",
            "merge: [3, 8, 11, 15, 20, 29, 31, 48, 65, 73]\n"
          ]
        },
        {
          "output_type": "execute_result",
          "data": {
            "text/plain": [
              "[3, 8, 11, 15, 20, 29, 31, 48, 65, 73]"
            ]
          },
          "metadata": {},
          "execution_count": 24
        }
      ]
    },
    {
      "cell_type": "markdown",
      "source": [
        "### **퀵 정렬 (노션 partition 그림 예시 보기)**"
      ],
      "metadata": {
        "id": "yCIOIoDUGTA9"
      }
    },
    {
      "cell_type": "code",
      "source": [
        "# pivot 인덱스가 마지막 인덱스일 때\n",
        "def quickSort(A,p,r):\n",
        "  if p < r :\n",
        "    q = partition(A,p,r)  # 맨 끝사람을 기준으로 분할\n",
        "    quickSort(A,p,q-1)    # 맨 끝 애를 기준으로 작으면 걔보다 앞으로 정렬\n",
        "    quickSort(A,q+1,r)    # #맨 끝 애를 기준으로 크면 걔보다 뒤로 정렬\n",
        "  return A\n",
        "\n",
        "def partition(A,p,r) :\n",
        "  pivot = A[r]\n",
        "  i = p - 1               # 초기화\n",
        "  for j in range(p,r) :\n",
        "    if A[j] < pivot :\n",
        "      i += 1\n",
        "      A[i], A[j] = A[j], A[i]\n",
        "\n",
        "  # i는 pivot보다 작은 원소들 중 마지막에 위치한 값 -> (i+1)뒤에 pivot값이 와야 함\n",
        "  A[i+1], A[r] = A[r], A[i+1]\n",
        "\n",
        "  # pivot을 기준으로 분할해야 하기 때문에\n",
        "  return i + 1\n",
        "\n",
        "\n",
        "A=[29,10,14,37,13]\n",
        "quickSort(A,0,len(A)-1)"
      ],
      "metadata": {
        "colab": {
          "base_uri": "https://localhost:8080/"
        },
        "id": "Ch9vFw9XJQRl",
        "outputId": "87395329-e201-4760-d965-02b24b45d9a0"
      },
      "execution_count": null,
      "outputs": [
        {
          "output_type": "execute_result",
          "data": {
            "text/plain": [
              "[10, 13, 14, 29, 37]"
            ]
          },
          "metadata": {},
          "execution_count": 27
        }
      ]
    },
    {
      "cell_type": "code",
      "source": [
        "# pivot 인덱스가 시작 인덱스일 때\n",
        "def quickSort_start(A,p,r):\n",
        "  if p < r :\n",
        "    q = partition(A,p,r)  # 맨 끝사람을 기준으로 분할\n",
        "    quickSort(A,p,q-1)    # 맨 끝 애를 기준으로 작으면 걔보다 앞으로 정렬\n",
        "    quickSort(A,q+1,r)\n",
        "  return A\n",
        "\n",
        "def partition(A,p,r) :\n",
        "  pivot =A[p]\n",
        "  i = p\n",
        "  for j in range(p+1,r+1) :\n",
        "    if A[j] < pivot :\n",
        "      i += 1\n",
        "      A[i], A[j] = A[j], A[i]\n",
        "  A[i], A[p] = A[p], A[i]\n",
        "\n",
        "  return i\n",
        "\n",
        "A=[29,10,14,37,13]\n",
        "quickSort_start(A,0,len(A)-1)"
      ],
      "metadata": {
        "colab": {
          "base_uri": "https://localhost:8080/"
        },
        "id": "zqku2Br6GXK_",
        "outputId": "eca86e47-26b0-4a58-e368-78f6ff39dd24"
      },
      "execution_count": null,
      "outputs": [
        {
          "output_type": "execute_result",
          "data": {
            "text/plain": [
              "[10, 13, 14, 29, 37]"
            ]
          },
          "metadata": {},
          "execution_count": 28
        }
      ]
    },
    {
      "cell_type": "markdown",
      "source": [
        "### **힙 정렬(★)**"
      ],
      "metadata": {
        "id": "Aj14tAUGNx32"
      }
    },
    {
      "cell_type": "code",
      "source": [
        "# 최대 힙 (내림차순)\n",
        "def max_heapSort(A):\n",
        "  n = len(A)\n",
        "  buildHeap(A)                #배열을 힙으 만들기\n",
        "  for i in range(n-1,0,-1):\n",
        "    A[0], A[i]=A[i], A[0]     # A[0]이랑 A[마지막] 바꿔주고\n",
        "    heapify(A,0,i)            # 루트에서부터 힙 성질 복원\n",
        "  return A\n",
        "\n",
        "def buildHeap(A):\n",
        "  n = len(A)\n",
        "  for i in range(n//2-1,-1,-1):\n",
        "    heapify(A,i,n)\n",
        "\n",
        "# 최대 힙 특성을 유지하기 위해 올바른 위치에 원소가 오게끔 함\n",
        "\n",
        "def heapify(A, k, n):         # A[k]를 루트로 하는 트리\n",
        "  smaller = k\n",
        "  left = 2*k + 1\n",
        "  right = 2*k + 2\n",
        "\n",
        "  if left < n :               # k한테 왼쪽 자식만 있는 경우\n",
        "    smaller = left\n",
        "  else :\n",
        "    return\n",
        "  if right < n :\n",
        "    if A[right] < A[left]:    # k가 두 자식을 갖는 경우\n",
        "      smaller=right\n",
        "    else :\n",
        "      smaller=left\n",
        "\n",
        "\n",
        "  if smaller !=  k :\n",
        "    A[k], A[smaller] = A[smaller], A[k]\n",
        "    heapify(A, smaller,n)\n",
        "\n",
        "A = [3,7,2,5]\n",
        "max_heapSort(A)"
      ],
      "metadata": {
        "colab": {
          "base_uri": "https://localhost:8080/"
        },
        "id": "1CHqPqLVN07N",
        "outputId": "892592da-0d9d-4810-9e8f-02beebd198d7"
      },
      "execution_count": null,
      "outputs": [
        {
          "output_type": "execute_result",
          "data": {
            "text/plain": [
              "[7, 5, 3, 2]"
            ]
          },
          "metadata": {},
          "execution_count": 29
        }
      ]
    },
    {
      "cell_type": "code",
      "source": [
        "# 최소 힙 (오름차순)\n",
        "def min_heapSort(A):\n",
        "  n=len(A)\n",
        "  buildHeap(A)\n",
        "  for i in range(n-1,0,-1):\n",
        "    A[0],A[i]=A[i],A[0]\n",
        "    heapify(A,0,i)\n",
        "  return A\n",
        "\n",
        "def buildHeap(A):\n",
        "  n=len(A)\n",
        "  for i in range(int(n/2-1),-1,-1):\n",
        "    heapify(A,i,n)\n",
        "\n",
        "def heapify(A,k,n):\n",
        "  largest = k\n",
        "  left = 2 * k + 1\n",
        "  right = 2 * k + 2\n",
        "  if right < n:\n",
        "    if A[left] < A[right]:\n",
        "      largest = right\n",
        "    else:\n",
        "      largest = left\n",
        "  elif left < n:\n",
        "    largest = left\n",
        "  else:\n",
        "    return\n",
        "\n",
        "  if largest != k :\n",
        "    A[largest], A[k] = A[k], A[largest]\n",
        "    heapify(A,largest,n)\n",
        "\n",
        "A=[29,10,14,37,13]\n",
        "min_heapSort(A)"
      ],
      "metadata": {
        "colab": {
          "base_uri": "https://localhost:8080/"
        },
        "id": "LCv23ATGN0z1",
        "outputId": "2ab38174-004a-4fd5-b936-d79d70031f4b"
      },
      "execution_count": null,
      "outputs": [
        {
          "output_type": "execute_result",
          "data": {
            "text/plain": [
              "[10, 13, 29, 14, 37]"
            ]
          },
          "metadata": {},
          "execution_count": 30
        }
      ]
    },
    {
      "cell_type": "markdown",
      "source": [
        "### **기수정렬**\n",
        "- 문제에서 \"3 4\" 와 \"3 5\" 입력은 3행 4열/3행 5열이라는 뜻\n",
        "- 기수정렬은 계수정렬도 같이 해야 함\n"
      ],
      "metadata": {
        "id": "EDNpYq8CUvFX"
      }
    },
    {
      "cell_type": "code",
      "source": [
        "# LSD 가장 큰 자릿수부터 정\n",
        "class RadixSort:\n",
        "    def __init__(self, arr):\n",
        "       # 정렬 대상인 숫자 배열\n",
        "        self.arr = arr\n",
        "\n",
        "    def radix_sort(self):\n",
        "        # 최대 digit을 알아보기 위해 가장 큰 수를 찾는다 = 최대 자릿수 k\n",
        "        max_value = max(self.arr)\n",
        "\n",
        "        exp = 1\n",
        "        while max_value // exp > 0 :  # 몫 계산\n",
        "            self.count_sort(self.arr , exp)\n",
        "            exp *= 10\n",
        "\n",
        "\n",
        "    def count_sort(self, A, k):         # A : 숫자 배열, k : 현재 정렬 중인 자릿수,\n",
        "        B = [0] * len(A)                # 임시배열\n",
        "        C = [0] * (10)                  # 1의 자리, 10의 자리수만 비교하기 때문에 범위는 0~9이다\n",
        "\n",
        "        for i in range(0, len(A)):      # 각 element가 몇개있는지 C에 저장한다\n",
        "            index = (A[i] // k) % 10    # 예) 45//1 = 45, 45 % 10 = 5\n",
        "            C[index] += 1\n",
        "\n",
        "        # C의 누적 값은 현재 정렬 중인 자릿수에 따라 각 숫자가 어느 위치에 정렬되어야 하는지를 결정하는데 사용\n",
        "        for i in range(1,10):           # C를 누적값으로 바꾼다, 0~9까지 밖에 없다\n",
        "            C[i] += C[i-1]\n",
        "\n",
        "        i = len(A)-1\n",
        "        while i >= 0:                     # C 를 indexing해서 정렬된 리스트를 찾는다 (계수정렬 그림이랑 비슷하다고 보면 됨)\n",
        "            index = (A[i] // k) % 10      # index = 5\n",
        "            B[ C[ index ] - 1] = A[i]     # C[5]는 누적 등장횟수니까 0부터 인덱스가 시작하는 배열에 넣기 위해선 -1\n",
        "            C[ index ] -= 1               # 임시 배열에 넣어줬으니까 사용된 C의 값 -1\n",
        "            i -= 1\n",
        "\n",
        "        # 기존 리스트에 복사를 한다\n",
        "        for i in range(len(A)):\n",
        "            A[i] = B[i]"
      ],
      "metadata": {
        "colab": {
          "base_uri": "https://localhost:8080/",
          "height": 54
        },
        "id": "HmlRNKY3VAsN",
        "outputId": "c490cb27-ae86-4457-baf7-7e89d7610294"
      },
      "execution_count": null,
      "outputs": [
        {
          "output_type": "execute_result",
          "data": {
            "text/plain": [
              "'\\na,b = input().split()\\nnumber=[]\\nfor i in range(0,int(a)):\\n    number.append(input())\\n\\nnumber=list(map(int,number))  #append한 리스트는 숫자가 string 형태로 되어있는데, 그걸 숫자형식으로 바꿔준것\\n#print(number)\\nradix = RadixSort(number)\\nradix.radix_sort()\\n\\nfor i in range(0,3):\\n  print(radix.num[i],end=\"\\n\")\\n'"
            ],
            "application/vnd.google.colaboratory.intrinsic+json": {
              "type": "string"
            }
          },
          "metadata": {},
          "execution_count": 34
        }
      ]
    },
    {
      "cell_type": "code",
      "source": [
        "def get_input():\n",
        "    lines = []\n",
        "    try:\n",
        "        while True:\n",
        "            line = input()\n",
        "            if not line:\n",
        "                break\n",
        "            lines.append(line)\n",
        "    except EOFError:\n",
        "        pass\n",
        "    return '\\n'.join(lines)\n",
        "\n",
        "# 입력 받기\n",
        "num_input = get_input()\n",
        "\n",
        "lines = num_input.split(\"\\n\")\n",
        "n, m = map(int, lines[0].split())  # 첫 줄에서 n과 m 값을 추출\n",
        "\n",
        "# 나머지 줄에서 데이터를 추출합니다 [[2, 4, 6, 9], [1, 4, 7, 7], [1, 5, 6, 5]]\n",
        "data = [list(map(int, line.split())) for line in lines[1:]]\n",
        "\n",
        "\n",
        "# 2차원 리스트 -> 1차원 리스트, 각 숫자를 결합 -> 문자열 ->  정수로 변환 [2469, 1477, 1565]\n",
        "result = [int(\"\".join(map(str, row))) for row in data]\n",
        "\n",
        "radix = RadixSort(result)\n",
        "radix.radix_sort()\n",
        "\n",
        "for i in range(0,len(result)):\n",
        "  print(radix.arr[i],end=\"\\n\")"
      ],
      "metadata": {
        "colab": {
          "base_uri": "https://localhost:8080/"
        },
        "id": "IbhiyWvBc26A",
        "outputId": "bfee2775-5cdd-4c72-ee70-639b5d8ad86d"
      },
      "execution_count": null,
      "outputs": [
        {
          "output_type": "stream",
          "name": "stdout",
          "text": [
            "3 4 \n",
            "2 4 6 9 \n",
            "1 4 7 7\n",
            "1 5 6 5\n",
            "\n",
            "1477\n",
            "1565\n",
            "2469\n"
          ]
        }
      ]
    },
    {
      "cell_type": "markdown",
      "source": [
        "### **계수정렬**"
      ],
      "metadata": {
        "id": "i7wjeZ1yjWs6"
      }
    },
    {
      "cell_type": "code",
      "source": [
        "def countingSort(A, k):\n",
        "  B = [0] * k    # 등장 횟수를 저장할 배열\n",
        "  C = [0] * len(A)        # 0부터 k-1까지 개수 카운트 (최종 정렬 값을 저장할 임시 배열)\n",
        "  n = len(A)\n",
        "\n",
        "  # for i in range(0, k):  # range(k)와 동일\n",
        "  #   C[i] = 0\n",
        "\n",
        "  for j in range(0, n):   # range(n)와 동일\n",
        "    B[A[j]] += 1\n",
        "  print(B)    # 개수 카운트 결과 출력\n",
        "\n",
        "  for i in range(0, k):\n",
        "    B[i] += B[i-1]\n",
        "  print(B)    # 개수 카운트 결과 출력\n",
        "\n",
        "  for j in range(n-1, -1, -1):\n",
        "    print(\"A[j] =\", A[j], end=', ')\n",
        "    print(\"C[A[j]] =\", B[A[j]])\n",
        "    C[B[A[j]]-1] = A[j]\n",
        "    B[A[j]] -= 1\n",
        "\n",
        "  for i in range(len(A)):\n",
        "    A[i] = C[i]\n",
        "\n",
        "  return A\n",
        "\n",
        "A = list(map(int,input().split()))  #이건 공백으로\n",
        "#A = list(map(int,input().split(',')))  #이건 콤마로\n",
        "#A = [3,7,2,5]\n",
        "countingSort(A, 10)"
      ],
      "metadata": {
        "colab": {
          "base_uri": "https://localhost:8080/"
        },
        "id": "KGKesNJ9jhm7",
        "outputId": "104bac01-dc10-4d24-c137-f079a98fa956"
      },
      "execution_count": null,
      "outputs": [
        {
          "output_type": "stream",
          "name": "stdout",
          "text": [
            "2 3 1 1 2 0\n",
            "[1, 2, 2, 1, 0, 0, 0, 0, 0, 0]\n",
            "[1, 3, 5, 6, 6, 6, 6, 6, 6, 6]\n",
            "A[j] = 0, C[A[j]] = 1\n",
            "A[j] = 2, C[A[j]] = 5\n",
            "A[j] = 1, C[A[j]] = 3\n",
            "A[j] = 1, C[A[j]] = 2\n",
            "A[j] = 3, C[A[j]] = 6\n",
            "A[j] = 2, C[A[j]] = 4\n"
          ]
        },
        {
          "output_type": "execute_result",
          "data": {
            "text/plain": [
              "[0, 1, 1, 2, 2, 3]"
            ]
          },
          "metadata": {},
          "execution_count": 49
        }
      ]
    },
    {
      "cell_type": "markdown",
      "source": [
        "### **정렬 속도 비교**"
      ],
      "metadata": {
        "id": "IBtDd2mRVTdx"
      }
    },
    {
      "cell_type": "code",
      "source": [
        "def sortAlgorithms(B):\n",
        "  t0 = time.time();\n",
        "\n",
        "  A = B[:]; print(A)\n",
        "  A1 = selectionSort(A);\n",
        "  t1 = time.time(); s1 = round(t1 - t0, 3); print(A)\n",
        "\n",
        "  A = B[:]; print(A)\n",
        "  A2 = bubbleSort(A)\n",
        "  t2 = time.time(); s2 = round(t2 - t1, 3); print(A)\n",
        "\n",
        "  A = B[:]; print(A)\n",
        "  A3 = insertionSort(A)  #과제\n",
        "  t3 = time.time(); s3 = round(t3 - t2, 3); print(A)\n",
        "\n",
        "  A = B[:]; print(A)\n",
        "  A4 = mergeSortA(A)\n",
        "  t4 = time.time(); s4 = round(t4 - t3, 3); print(A)\n",
        "\n",
        "  A = B[:]; print(A)\n",
        "  A5 = quickSort(A)\n",
        "  t5 = time.time(); s5 = round(t5 - t4, 3); print(A)\n",
        "\n",
        "  A = B[:]; print(A)\n",
        "  A6 = max_heapSort(A)  #과제\n",
        "  t6 = time.time(); s6 = round(t6 - t5, 3); print(A)\n",
        "\n",
        "  print(\"------------------\")\n",
        "  print(\"selectionSort:\\t\", s1, \"\\t\", A1)\n",
        "  print(\"bubbleSort:\\t\"   , s2, \"\\t\", A2)\n",
        "  print(\"insertionSort:\\t\", s3, \"\\t\", A3)\n",
        "  print(\"mergeSortA:\\t\"   , s4, \"\\t\", A4)\n",
        "  print(\"quickSort:\\t\"    , s5, \"\\t\", A5)\n",
        "  print(\"heapSort:\\t\"     , s6, \"\\t\", A6)"
      ],
      "metadata": {
        "id": "84XCdvn5VT9E"
      },
      "execution_count": null,
      "outputs": []
    }
  ]
}